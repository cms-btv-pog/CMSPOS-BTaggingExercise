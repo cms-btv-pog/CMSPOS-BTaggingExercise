{
 "cells": [
  {
   "cell_type": "markdown",
   "metadata": {},
   "source": [
    "# Exercise 4\n",
    "\n",
    "\n",
    "## Part I - creating a useful data format\n",
    "\n",
    "Like in the previous exercise you will start creating a `pandas.DataFrame` with the necessary information"
   ]
  },
  {
   "cell_type": "code",
   "execution_count": 1,
   "metadata": {
    "collapsed": false
   },
   "outputs": [
    {
     "data": {
      "application/javascript": [
       "\n",
       "require(['notebook'],\n",
       "  function() {\n",
       "    IPython.CodeCell.config_defaults.highlight_modes['magic_text/x-c++src'] = {'reg':[/^%%cpp/]};\n",
       "    console.log(\"JupyROOT - %%cpp magic configured\");\n",
       "  }\n",
       ");\n"
      ]
     },
     "metadata": {},
     "output_type": "display_data"
    },
    {
     "name": "stdout",
     "output_type": "stream",
     "text": [
      "Welcome to JupyROOT 6.08/07\n"
     ]
    }
   ],
   "source": [
    "import ROOT\n",
    "import rootpy #hands down, a better version of PyROOT\n",
    "import rootpy.plotting as plt\n",
    "import pprint\n",
    "from DataFormats.FWLite import Events, Handle\n",
    "import pandas as pd\n",
    "import numpy as np\n",
    "ROOT.gStyle.SetOptStat(0)\n",
    "ROOT.gStyle.SetOptTitle(0)"
   ]
  },
  {
   "cell_type": "markdown",
   "metadata": {},
   "source": [
    "We will need to import sevral libraries, including scikit-lean, one of the machine learning python libraries and matplotlib, one of python's plotting libraries."
   ]
  },
  {
   "cell_type": "code",
   "execution_count": 22,
   "metadata": {
    "collapsed": true
   },
   "outputs": [],
   "source": [
    "%matplotlib inline\n",
    "\n",
    "import matplotlib as mpl\n",
    "import matplotlib.pyplot as pyplt\n",
    "from sklearn.metrics import roc_curve, auc\n",
    "from sklearn.model_selection import train_test_split\n",
    "from sklearn.ensemble import GradientBoostingClassifier\n",
    "from sklearn.multiclass import OneVsRestClassifier\n",
    "import sklearn"
   ]
  },
  {
   "cell_type": "markdown",
   "metadata": {},
   "source": [
    "As in the previous exercise we will have to read the input `MINIAOD` files and convert the information we want into a `pandas.DataFrame`"
   ]
  },
  {
   "cell_type": "code",
   "execution_count": 3,
   "metadata": {
    "collapsed": true
   },
   "outputs": [],
   "source": [
    "data = []\n",
    "files = [\n",
    "    #QCD\n",
    "    '/store/mc/RunIISummer16MiniAODv3/QCD_HT100to200_TuneCUETP8M1_13TeV-madgraphMLM-pythia8/MINIAODSIM/PUMoriond17_94X_mcRun2_asymptotic_v3-v1/90000/2C4EC498-DA21-E911-BDF4-001E67248476.root',\n",
    "    #'/store/relval/CMSSW_9_2_2/RelValQCD_FlatPt_15_3000HS_13/MINIAODSIM/PU25ns_92X_upgrade2017_realistic_v1-v1/10000/14008288-C84D-E711-9EFD-0025905B85BC.root',\n",
    "    #'/store/relval/CMSSW_9_2_2/RelValQCD_FlatPt_15_3000HS_13/MINIAODSIM/PU25ns_92X_upgrade2017_realistic_v1-v1/10000/30858183-C84D-E711-AB11-0CC47A7C3434.root',\n",
    "    #TTbar\n",
    "    '/store/mc/RunIISummer16MiniAODv3/TT_TuneCUETP8M2T4_13TeV-powheg-pythia8/MINIAODSIM/PUMoriond17_94X_mcRun2_asymptotic_v3-v1/00000/0A8930BA-88BE-E811-8BDD-20CF3027A582.root',\n",
    "    #'/store/relval/CMSSW_9_2_2/RelValTTbar_13/MINIAODSIM/PU25ns_92X_upgrade2017_realistic_v1-v1/10000/8E7EE25F-294E-E711-A5CC-0025905B8610.root',\n",
    "    #'/store/relval/CMSSW_9_2_2/RelValTTbar_13/MINIAODSIM/PU25ns_92X_upgrade2017_realistic_v1-v1/10000/44D6F368-294E-E711-958E-0025905A612C.root',\n",
    "]\n",
    "events = Events(['root://xrootd-cms.infn.it/%s' % i for i in files])\n",
    "handle = Handle('vector<pat::Jet>')\n",
    "taggers = [\n",
    "    ('JP', 'pfJetProbabilityBJetTags'),\n",
    "    ('JPB', 'pfJetBProbabilityBJetTags'),\n",
    "    ('SoftMu', 'softPFMuonBJetTags'),\n",
    "    ('SoftEl', 'softPFElectronBJetTags'),\n",
    "    ('CSV_IVF', 'pfCombinedInclusiveSecondaryVertexV2BJetTags'),\n",
    "    ('CSV_AVR', 'pfCombinedSecondaryVertexV2BJetTags'),\n",
    "    ('CvsL', 'pfCombinedCvsLJetTags'),\n",
    "    ('CvsB', 'pfCombinedCvsBJetTags'),\n",
    "    ('cMVA', 'pfCombinedMVAV2BJetTags'), #FOR REFERENCE ONLY\n",
    "]\n",
    "for event in events:\n",
    "    event.getByLabel('slimmedJets', handle)\n",
    "    jets = handle.product()\n",
    "    for jet in jets:\n",
    "        if jet.pt() < 20 or abs(jet.eta()) > 2.4: continue #basic selection\n",
    "        #A more verbose, but more consistent version with dictionaries exists\n",
    "        entry = [\n",
    "            jet.pt(),\n",
    "            jet.eta(),\n",
    "            abs(jet.hadronFlavour()), #5 - b-jet, 4 - c-jet, 0 - light\n",
    "        ]\n",
    "        entry.extend([jet.bDiscriminator(i) for _, i in taggers])\n",
    "        data.append(entry)"
   ]
  },
  {
   "cell_type": "markdown",
   "metadata": {},
   "source": [
    "Let's convert the data and look at it."
   ]
  },
  {
   "cell_type": "code",
   "execution_count": 4,
   "metadata": {
    "collapsed": false
   },
   "outputs": [
    {
     "data": {
      "text/html": [
       "<div>\n",
       "<style>\n",
       "    .dataframe thead tr:only-child th {\n",
       "        text-align: right;\n",
       "    }\n",
       "\n",
       "    .dataframe thead th {\n",
       "        text-align: left;\n",
       "    }\n",
       "\n",
       "    .dataframe tbody tr th {\n",
       "        vertical-align: top;\n",
       "    }\n",
       "</style>\n",
       "<table border=\"1\" class=\"dataframe\">\n",
       "  <thead>\n",
       "    <tr style=\"text-align: right;\">\n",
       "      <th></th>\n",
       "      <th>pt</th>\n",
       "      <th>eta</th>\n",
       "      <th>flavour</th>\n",
       "      <th>JP</th>\n",
       "      <th>JPB</th>\n",
       "      <th>SoftMu</th>\n",
       "      <th>SoftEl</th>\n",
       "      <th>CSV_IVF</th>\n",
       "      <th>CSV_AVR</th>\n",
       "      <th>CvsL</th>\n",
       "      <th>CvsB</th>\n",
       "      <th>cMVA</th>\n",
       "    </tr>\n",
       "  </thead>\n",
       "  <tbody>\n",
       "    <tr>\n",
       "      <th>0</th>\n",
       "      <td>96.326202</td>\n",
       "      <td>-1.426480</td>\n",
       "      <td>0</td>\n",
       "      <td>0.033237</td>\n",
       "      <td>0.541580</td>\n",
       "      <td>-inf</td>\n",
       "      <td>-inf</td>\n",
       "      <td>0.125161</td>\n",
       "      <td>0.125161</td>\n",
       "      <td>-0.314454</td>\n",
       "      <td>0.420186</td>\n",
       "      <td>-0.965026</td>\n",
       "    </tr>\n",
       "    <tr>\n",
       "      <th>1</th>\n",
       "      <td>74.609001</td>\n",
       "      <td>0.186755</td>\n",
       "      <td>0</td>\n",
       "      <td>0.125105</td>\n",
       "      <td>1.398613</td>\n",
       "      <td>-inf</td>\n",
       "      <td>-inf</td>\n",
       "      <td>0.237336</td>\n",
       "      <td>0.237336</td>\n",
       "      <td>0.115812</td>\n",
       "      <td>0.462907</td>\n",
       "      <td>-0.763757</td>\n",
       "    </tr>\n",
       "    <tr>\n",
       "      <th>2</th>\n",
       "      <td>87.277283</td>\n",
       "      <td>2.329929</td>\n",
       "      <td>0</td>\n",
       "      <td>0.218924</td>\n",
       "      <td>0.734156</td>\n",
       "      <td>-inf</td>\n",
       "      <td>0.726604</td>\n",
       "      <td>0.777873</td>\n",
       "      <td>0.456958</td>\n",
       "      <td>0.461294</td>\n",
       "      <td>-0.138567</td>\n",
       "      <td>0.128481</td>\n",
       "    </tr>\n",
       "    <tr>\n",
       "      <th>3</th>\n",
       "      <td>78.739510</td>\n",
       "      <td>2.328943</td>\n",
       "      <td>0</td>\n",
       "      <td>0.061890</td>\n",
       "      <td>0.322394</td>\n",
       "      <td>-inf</td>\n",
       "      <td>-inf</td>\n",
       "      <td>0.090767</td>\n",
       "      <td>0.090767</td>\n",
       "      <td>-0.439765</td>\n",
       "      <td>0.475318</td>\n",
       "      <td>-0.982244</td>\n",
       "    </tr>\n",
       "    <tr>\n",
       "      <th>4</th>\n",
       "      <td>116.271942</td>\n",
       "      <td>0.412448</td>\n",
       "      <td>0</td>\n",
       "      <td>0.075692</td>\n",
       "      <td>0.386097</td>\n",
       "      <td>-inf</td>\n",
       "      <td>-inf</td>\n",
       "      <td>0.086868</td>\n",
       "      <td>0.086868</td>\n",
       "      <td>-0.271164</td>\n",
       "      <td>0.519577</td>\n",
       "      <td>-0.980381</td>\n",
       "    </tr>\n",
       "  </tbody>\n",
       "</table>\n",
       "</div>"
      ],
      "text/plain": [
       "           pt       eta  flavour        JP       JPB  SoftMu    SoftEl  \\\n",
       "0   96.326202 -1.426480        0  0.033237  0.541580    -inf      -inf   \n",
       "1   74.609001  0.186755        0  0.125105  1.398613    -inf      -inf   \n",
       "2   87.277283  2.329929        0  0.218924  0.734156    -inf  0.726604   \n",
       "3   78.739510  2.328943        0  0.061890  0.322394    -inf      -inf   \n",
       "4  116.271942  0.412448        0  0.075692  0.386097    -inf      -inf   \n",
       "\n",
       "    CSV_IVF   CSV_AVR      CvsL      CvsB      cMVA  \n",
       "0  0.125161  0.125161 -0.314454  0.420186 -0.965026  \n",
       "1  0.237336  0.237336  0.115812  0.462907 -0.763757  \n",
       "2  0.777873  0.456958  0.461294 -0.138567  0.128481  \n",
       "3  0.090767  0.090767 -0.439765  0.475318 -0.982244  \n",
       "4  0.086868  0.086868 -0.271164  0.519577 -0.980381  "
      ]
     },
     "execution_count": 4,
     "metadata": {},
     "output_type": "execute_result"
    }
   ],
   "source": [
    "data = pd.DataFrame(\n",
    "    data, \n",
    "    columns=(['pt', 'eta', 'flavour'] + [i for i, _ in taggers])\n",
    ")\n",
    "data.head()"
   ]
  },
  {
   "cell_type": "markdown",
   "metadata": {},
   "source": [
    "__Always sanitize your input__\n",
    "\n",
    "![img](img/xkcd.png)\n",
    "\n",
    "Let's check if there are columns with `inf`s or `NaN`s. We are sure about soft electron/muons, but what about the rest?"
   ]
  },
  {
   "cell_type": "code",
   "execution_count": 5,
   "metadata": {
    "collapsed": false
   },
   "outputs": [
    {
     "name": "stdout",
     "output_type": "stream",
     "text": [
      "SoftMu contains infs\n",
      "SoftEl contains infs\n"
     ]
    }
   ],
   "source": [
    "for column in data.columns:\n",
    "    if np.isinf(data[column]).any():\n",
    "        print column, 'contains infs'\n",
    "    if np.isnan(data[column]).any():\n",
    "        print column, 'contains nans'"
   ]
  },
  {
   "cell_type": "markdown",
   "metadata": {},
   "source": [
    "You can check yourself what are the ranged of the features with infinities, but setting them to 0 works for us"
   ]
  },
  {
   "cell_type": "code",
   "execution_count": 6,
   "metadata": {
    "collapsed": false
   },
   "outputs": [],
   "source": [
    "data.loc[np.isinf(data.SoftEl), 'SoftEl'] = 0\n",
    "data.loc[np.isinf(data.SoftMu), 'SoftMu'] = 0\n",
    "data.head()"
   ]
  },
  {
   "cell_type": "markdown",
   "metadata": {},
   "source": [
    "We will now have to set the true labels for the training/testing of our discriminator. We will create two sets of labels:\n",
    "  - __Binary labels:__ simply define if the jet is a b-jet or not\n",
    "  - __multiclass labels:__ define three possible options, light, charm and b. It is the same information we have in the flavour column, but encoded differently"
   ]
  },
  {
   "cell_type": "code",
   "execution_count": 8,
   "metadata": {
    "collapsed": true
   },
   "outputs": [],
   "source": [
    "data['binary_target'] = 0\n",
    "data.loc[(data.flavour == 5), 'binary_target'] = 1\n",
    "\n",
    "data['isL'] = (data.flavour == 0)\n",
    "data['isB'] = (data.flavour == 5)\n",
    "data['isC'] = (data.flavour == 4)\n",
    "data['clf_binary'] = 0\n",
    "data['clf_multiclass'] = 0\n",
    "data['clf_multiclass_C'] = 0"
   ]
  },
  {
   "cell_type": "markdown",
   "metadata": {},
   "source": [
    "As in every machine learning exercise, we need to split our data into two samples, a training and a testing."
   ]
  },
  {
   "cell_type": "code",
   "execution_count": 9,
   "metadata": {
    "collapsed": false
   },
   "outputs": [],
   "source": [
    "train, test = train_test_split(data, test_size=0.3, random_state=42)"
   ]
  },
  {
   "cell_type": "markdown",
   "metadata": {},
   "source": [
    "We can now define our models. We will train two different BDTs, one trained on binary labels, one with multiclass labels."
   ]
  },
  {
   "cell_type": "code",
   "execution_count": 24,
   "metadata": {
    "collapsed": true
   },
   "outputs": [],
   "source": [
    "features = [i for i, _ in taggers if i != 'cMVA']\n",
    "clf_binary = GradientBoostingClassifier(\n",
    "    learning_rate=0.01, n_estimators=1000, \n",
    "    subsample=0.8, random_state=13,\n",
    "    min_samples_leaf=int(0.01*len(train)),\n",
    "    max_depth=5,\n",
    "    verbose=1,\n",
    ")\n",
    "clf_multiclass = OneVsRestClassifier(sklearn.base.clone(clf_binary))"
   ]
  },
  {
   "cell_type": "code",
   "execution_count": 25,
   "metadata": {
    "collapsed": false
   },
   "outputs": [
    {
     "data": {
      "text/plain": [
       "GradientBoostingClassifier(criterion='friedman_mse', init=None,\n",
       "              learning_rate=0.01, loss='deviance', max_depth=5,\n",
       "              max_features=None, max_leaf_nodes=None,\n",
       "              min_impurity_split=1e-07, min_samples_leaf=288,\n",
       "              min_samples_split=2, min_weight_fraction_leaf=0.0,\n",
       "              n_estimators=1000, presort='auto', random_state=13,\n",
       "              subsample=0.8, verbose=1, warm_start=False)"
      ]
     },
     "execution_count": 25,
     "metadata": {},
     "output_type": "execute_result"
    },
    {
     "name": "stdout",
     "output_type": "stream",
     "text": [
      "      Iter       Train Loss      OOB Improve   Remaining Time \n",
      "         1           1.1852           0.0107           52.38s\n",
      "         2           1.1791           0.0103           53.52s\n",
      "         3           1.1622           0.0105           53.47s\n",
      "         4           1.1581           0.0096           53.44s\n",
      "         5           1.1498           0.0094           53.30s\n",
      "         6           1.1374           0.0091           52.84s\n",
      "         7           1.1219           0.0091           53.06s\n",
      "         8           1.1145           0.0091           52.93s\n",
      "         9           1.1124           0.0084           52.75s\n",
      "        10           1.1044           0.0082           52.81s\n",
      "        20           1.0326           0.0065           52.17s\n",
      "        30           0.9705           0.0055           51.89s\n",
      "        40           0.9215           0.0042           51.42s\n",
      "        50           0.8806           0.0038           50.81s\n",
      "        60           0.8457           0.0032           50.24s\n",
      "        70           0.8153           0.0027           49.55s\n",
      "        80           0.7891           0.0022           48.99s\n",
      "        90           0.7715           0.0020           48.40s\n",
      "       100           0.7509           0.0018           47.74s\n",
      "       200           0.6550           0.0004           41.71s\n",
      "       300           0.6247           0.0001           36.16s\n",
      "       400           0.6126           0.0000           30.72s\n",
      "       500           0.6079           0.0000           25.40s\n",
      "       600           0.5999          -0.0000           20.21s\n",
      "       700           0.6012          -0.0000           15.07s\n",
      "       800           0.5932          -0.0000           10.02s\n",
      "       900           0.5903          -0.0000            4.99s\n",
      "      1000           0.5892          -0.0000            0.00s\n",
      "      Iter       Train Loss      OOB Improve   Remaining Time \n",
      "         1           0.6505           0.0020           57.18s\n",
      "         2           0.6542           0.0020           57.68s\n",
      "         3           0.6460           0.0020           57.06s\n",
      "         4           0.6460           0.0020           57.08s\n",
      "         5           0.6448           0.0018           56.84s\n",
      "         6           0.6453           0.0017           56.81s\n",
      "         7           0.6324           0.0017           56.51s\n",
      "         8           0.6400           0.0017           56.40s\n",
      "         9           0.6418           0.0014           56.23s\n",
      "        10           0.6368           0.0015           56.07s\n",
      "        20           0.6300           0.0011           55.87s\n",
      "        30           0.6145           0.0009           55.33s\n",
      "        40           0.6006           0.0006           54.77s\n",
      "        50           0.5985           0.0006           54.13s\n",
      "        60           0.5908           0.0005           53.40s\n",
      "        70           0.5864           0.0004           52.76s\n",
      "        80           0.5809           0.0003           51.99s\n",
      "        90           0.5796           0.0003           51.35s\n",
      "       100           0.5755           0.0002           50.67s\n",
      "       200           0.5577           0.0000           44.30s\n",
      "       300           0.5545           0.0000           37.71s\n",
      "       400           0.5470          -0.0000           31.56s\n",
      "       500           0.5383          -0.0000           25.88s\n",
      "       600           0.5388          -0.0000           20.48s\n",
      "       700           0.5393          -0.0000           15.25s\n",
      "       800           0.5348          -0.0000           10.10s\n",
      "       900           0.5287          -0.0000            5.02s\n",
      "      1000           0.5284          -0.0000            0.00s\n",
      "      Iter       Train Loss      OOB Improve   Remaining Time \n",
      "         1           0.9445           0.0126           53.20s\n",
      "         2           0.9356           0.0117           52.18s\n",
      "         3           0.9174           0.0119           51.98s\n",
      "         4           0.9145           0.0109           51.96s\n",
      "         5           0.9051           0.0103           51.80s\n",
      "         6           0.8881           0.0101           51.89s\n",
      "         7           0.8756           0.0100           51.66s\n",
      "         8           0.8619           0.0101           51.68s\n",
      "         9           0.8614           0.0092           51.55s\n",
      "        10           0.8550           0.0088           51.59s\n",
      "        20           0.7766           0.0065           50.81s\n",
      "        30           0.7160           0.0054           50.29s\n",
      "        40           0.6737           0.0040           49.79s\n",
      "        50           0.6279           0.0035           49.10s\n",
      "        60           0.5954           0.0031           48.50s\n",
      "        70           0.5673           0.0025           47.94s\n",
      "        80           0.5442           0.0022           47.43s\n",
      "        90           0.5247           0.0019           46.82s\n",
      "       100           0.5027           0.0016           46.25s\n",
      "       200           0.4150           0.0004           40.48s\n",
      "       300           0.3783           0.0001           35.17s\n",
      "       400           0.3700           0.0000           29.91s\n",
      "       500           0.3713           0.0000           24.78s\n",
      "       600           0.3624          -0.0000           19.77s\n",
      "       700           0.3599          -0.0000           14.86s\n",
      "       800           0.3538          -0.0000            9.91s\n",
      "       900           0.3574          -0.0000            4.95s\n",
      "      1000           0.3492          -0.0000            0.00s\n",
      "      Iter       Train Loss      OOB Improve   Remaining Time \n",
      "         1           0.9445           0.0126           53.37s\n",
      "         2           0.9356           0.0117           52.26s\n",
      "         3           0.9174           0.0119           52.04s\n",
      "         4           0.9145           0.0109           52.07s\n",
      "         5           0.9051           0.0103           51.90s\n",
      "         6           0.8881           0.0101           51.93s\n",
      "         7           0.8756           0.0100           51.71s\n",
      "         8           0.8619           0.0101           51.81s\n",
      "         9           0.8614           0.0092           51.67s\n",
      "        10           0.8550           0.0088           51.72s\n",
      "        20           0.7766           0.0065           50.96s\n",
      "        30           0.7160           0.0054           50.45s\n",
      "        40           0.6737           0.0040           49.92s\n",
      "        50           0.6279           0.0035           49.22s\n",
      "        60           0.5954           0.0031           48.63s\n",
      "        70           0.5673           0.0025           48.07s\n",
      "        80           0.5442           0.0022           47.57s\n",
      "        90           0.5247           0.0019           46.97s\n",
      "       100           0.5027           0.0016           46.40s\n",
      "       200           0.4150           0.0004           40.63s\n",
      "       300           0.3783           0.0001           35.25s\n",
      "       400           0.3700           0.0000           29.98s\n",
      "       500           0.3713           0.0000           24.83s\n",
      "       600           0.3624          -0.0000           19.75s\n",
      "       700           0.3599          -0.0000           14.79s\n",
      "       800           0.3538          -0.0000            9.83s\n",
      "       900           0.3574          -0.0000            4.90s\n",
      "      1000           0.3492          -0.0000            0.00s\n"
     ]
    }
   ],
   "source": [
    "# Training, takes a while\n",
    "clf_multiclass.fit(train[features], train[['isL', 'isC', 'isB']].as_matrix())\n",
    "clf_binary.fit(train[features], train.binary_target)"
   ]
  },
  {
   "cell_type": "markdown",
   "metadata": {},
   "source": [
    "We can now store the output of the taggers in the columns we created before. Do not mind the warning coming from the command. \n",
    "\n",
    "You can see that the binary classifier outputs a N time 2 matrix corresponding to $p(non-b\\, |\\, jet)$, $p(b\\, |\\, jet)$, while the multiclass has three outputs $p(light\\, |\\, jet)$, $p(charm\\, |\\, jet)$, $p(b\\, |\\, jet)$."
   ]
  },
  {
   "cell_type": "code",
   "execution_count": 27,
   "metadata": {
    "collapsed": false
   },
   "outputs": [
    {
     "name": "stderr",
     "output_type": "stream",
     "text": [
      "/cvmfs/cms.cern.ch/slc6_amd64_gcc530/external/py2-pippkgs/5.0-njopjo4/lib/python2.7/site-packages/ipykernel_launcher.py:1: SettingWithCopyWarning: \n",
      "A value is trying to be set on a copy of a slice from a DataFrame.\n",
      "Try using .loc[row_indexer,col_indexer] = value instead\n",
      "\n",
      "See the caveats in the documentation: http://pandas.pydata.org/pandas-docs/stable/indexing.html#indexing-view-versus-copy\n",
      "  \"\"\"Entry point for launching an IPython kernel.\n",
      "/cvmfs/cms.cern.ch/slc6_amd64_gcc530/external/py2-pippkgs/5.0-njopjo4/lib/python2.7/site-packages/ipykernel_launcher.py:2: SettingWithCopyWarning: \n",
      "A value is trying to be set on a copy of a slice from a DataFrame.\n",
      "Try using .loc[row_indexer,col_indexer] = value instead\n",
      "\n",
      "See the caveats in the documentation: http://pandas.pydata.org/pandas-docs/stable/indexing.html#indexing-view-versus-copy\n",
      "  \n",
      "/cvmfs/cms.cern.ch/slc6_amd64_gcc530/external/py2-pippkgs/5.0-njopjo4/lib/python2.7/site-packages/ipykernel_launcher.py:3: SettingWithCopyWarning: \n",
      "A value is trying to be set on a copy of a slice from a DataFrame.\n",
      "Try using .loc[row_indexer,col_indexer] = value instead\n",
      "\n",
      "See the caveats in the documentation: http://pandas.pydata.org/pandas-docs/stable/indexing.html#indexing-view-versus-copy\n",
      "  This is separate from the ipykernel package so we can avoid doing imports until\n"
     ]
    }
   ],
   "source": [
    "test['clf_binary'] = clf_binary.predict_proba(test[features])[:,1]\n",
    "test['clf_multiclass'] = clf_multiclass.predict_proba(test[features])[:,2]\n",
    "test['clf_multiclass_C'] = clf_multiclass.predict_proba(test[features])[:,1]"
   ]
  },
  {
   "cell_type": "code",
   "execution_count": 28,
   "metadata": {
    "collapsed": false
   },
   "outputs": [
    {
     "data": {
      "text/html": [
       "<div>\n",
       "<style>\n",
       "    .dataframe thead tr:only-child th {\n",
       "        text-align: right;\n",
       "    }\n",
       "\n",
       "    .dataframe thead th {\n",
       "        text-align: left;\n",
       "    }\n",
       "\n",
       "    .dataframe tbody tr th {\n",
       "        vertical-align: top;\n",
       "    }\n",
       "</style>\n",
       "<table border=\"1\" class=\"dataframe\">\n",
       "  <thead>\n",
       "    <tr style=\"text-align: right;\">\n",
       "      <th></th>\n",
       "      <th>pt</th>\n",
       "      <th>eta</th>\n",
       "      <th>flavour</th>\n",
       "      <th>JP</th>\n",
       "      <th>JPB</th>\n",
       "      <th>SoftMu</th>\n",
       "      <th>SoftEl</th>\n",
       "      <th>CSV_IVF</th>\n",
       "      <th>CSV_AVR</th>\n",
       "      <th>CvsL</th>\n",
       "      <th>CvsB</th>\n",
       "      <th>cMVA</th>\n",
       "      <th>binary_target</th>\n",
       "      <th>isL</th>\n",
       "      <th>isB</th>\n",
       "      <th>isC</th>\n",
       "      <th>clf_binary</th>\n",
       "      <th>clf_multiclass</th>\n",
       "      <th>clf_multiclass_C</th>\n",
       "    </tr>\n",
       "  </thead>\n",
       "  <tbody>\n",
       "    <tr>\n",
       "      <th>11242</th>\n",
       "      <td>23.694374</td>\n",
       "      <td>-0.439486</td>\n",
       "      <td>0</td>\n",
       "      <td>0.202409</td>\n",
       "      <td>0.751644</td>\n",
       "      <td>0.0</td>\n",
       "      <td>0.00000</td>\n",
       "      <td>0.369946</td>\n",
       "      <td>0.195666</td>\n",
       "      <td>-0.106124</td>\n",
       "      <td>0.586922</td>\n",
       "      <td>-0.827923</td>\n",
       "      <td>0</td>\n",
       "      <td>True</td>\n",
       "      <td>False</td>\n",
       "      <td>False</td>\n",
       "      <td>0.023040</td>\n",
       "      <td>0.023040</td>\n",
       "      <td>0.085981</td>\n",
       "    </tr>\n",
       "    <tr>\n",
       "      <th>26192</th>\n",
       "      <td>54.311916</td>\n",
       "      <td>-1.072498</td>\n",
       "      <td>0</td>\n",
       "      <td>0.272101</td>\n",
       "      <td>1.004778</td>\n",
       "      <td>0.0</td>\n",
       "      <td>0.00000</td>\n",
       "      <td>0.184987</td>\n",
       "      <td>0.184987</td>\n",
       "      <td>-0.220571</td>\n",
       "      <td>0.557914</td>\n",
       "      <td>-0.906575</td>\n",
       "      <td>0</td>\n",
       "      <td>True</td>\n",
       "      <td>False</td>\n",
       "      <td>False</td>\n",
       "      <td>0.015785</td>\n",
       "      <td>0.015785</td>\n",
       "      <td>0.071654</td>\n",
       "    </tr>\n",
       "    <tr>\n",
       "      <th>16918</th>\n",
       "      <td>31.526951</td>\n",
       "      <td>-1.003518</td>\n",
       "      <td>0</td>\n",
       "      <td>0.189412</td>\n",
       "      <td>1.272134</td>\n",
       "      <td>0.0</td>\n",
       "      <td>0.00000</td>\n",
       "      <td>0.335002</td>\n",
       "      <td>0.335002</td>\n",
       "      <td>-0.032920</td>\n",
       "      <td>0.126147</td>\n",
       "      <td>-0.751580</td>\n",
       "      <td>0</td>\n",
       "      <td>True</td>\n",
       "      <td>False</td>\n",
       "      <td>False</td>\n",
       "      <td>0.054315</td>\n",
       "      <td>0.054315</td>\n",
       "      <td>0.076504</td>\n",
       "    </tr>\n",
       "    <tr>\n",
       "      <th>3230</th>\n",
       "      <td>43.985874</td>\n",
       "      <td>-2.366027</td>\n",
       "      <td>0</td>\n",
       "      <td>0.151785</td>\n",
       "      <td>0.980472</td>\n",
       "      <td>0.0</td>\n",
       "      <td>0.00000</td>\n",
       "      <td>0.492127</td>\n",
       "      <td>0.492127</td>\n",
       "      <td>-0.197291</td>\n",
       "      <td>0.409359</td>\n",
       "      <td>-0.671418</td>\n",
       "      <td>0</td>\n",
       "      <td>True</td>\n",
       "      <td>False</td>\n",
       "      <td>False</td>\n",
       "      <td>0.039237</td>\n",
       "      <td>0.039237</td>\n",
       "      <td>0.062409</td>\n",
       "    </tr>\n",
       "    <tr>\n",
       "      <th>33511</th>\n",
       "      <td>60.725311</td>\n",
       "      <td>-0.467986</td>\n",
       "      <td>0</td>\n",
       "      <td>-0.000000</td>\n",
       "      <td>0.332886</td>\n",
       "      <td>0.0</td>\n",
       "      <td>0.03484</td>\n",
       "      <td>-10.000000</td>\n",
       "      <td>-10.000000</td>\n",
       "      <td>-2.000000</td>\n",
       "      <td>-2.000000</td>\n",
       "      <td>-0.971001</td>\n",
       "      <td>0</td>\n",
       "      <td>True</td>\n",
       "      <td>False</td>\n",
       "      <td>False</td>\n",
       "      <td>0.030134</td>\n",
       "      <td>0.030134</td>\n",
       "      <td>0.023917</td>\n",
       "    </tr>\n",
       "  </tbody>\n",
       "</table>\n",
       "</div>"
      ],
      "text/plain": [
       "              pt       eta  flavour        JP       JPB  SoftMu   SoftEl  \\\n",
       "11242  23.694374 -0.439486        0  0.202409  0.751644     0.0  0.00000   \n",
       "26192  54.311916 -1.072498        0  0.272101  1.004778     0.0  0.00000   \n",
       "16918  31.526951 -1.003518        0  0.189412  1.272134     0.0  0.00000   \n",
       "3230   43.985874 -2.366027        0  0.151785  0.980472     0.0  0.00000   \n",
       "33511  60.725311 -0.467986        0 -0.000000  0.332886     0.0  0.03484   \n",
       "\n",
       "         CSV_IVF    CSV_AVR      CvsL      CvsB      cMVA  binary_target  \\\n",
       "11242   0.369946   0.195666 -0.106124  0.586922 -0.827923              0   \n",
       "26192   0.184987   0.184987 -0.220571  0.557914 -0.906575              0   \n",
       "16918   0.335002   0.335002 -0.032920  0.126147 -0.751580              0   \n",
       "3230    0.492127   0.492127 -0.197291  0.409359 -0.671418              0   \n",
       "33511 -10.000000 -10.000000 -2.000000 -2.000000 -0.971001              0   \n",
       "\n",
       "        isL    isB    isC  clf_binary  clf_multiclass  clf_multiclass_C  \n",
       "11242  True  False  False    0.023040        0.023040          0.085981  \n",
       "26192  True  False  False    0.015785        0.015785          0.071654  \n",
       "16918  True  False  False    0.054315        0.054315          0.076504  \n",
       "3230   True  False  False    0.039237        0.039237          0.062409  \n",
       "33511  True  False  False    0.030134        0.030134          0.023917  "
      ]
     },
     "execution_count": 28,
     "metadata": {},
     "output_type": "execute_result"
    }
   ],
   "source": [
    "test.head()"
   ]
  },
  {
   "cell_type": "markdown",
   "metadata": {},
   "source": [
    "We can now print the ROC curves as in the previous exercise."
   ]
  },
  {
   "cell_type": "code",
   "execution_count": 29,
   "metadata": {
    "collapsed": false
   },
   "outputs": [
    {
     "data": {
      "image/png": "[encoded data removed]",
      "text/plain": [
       "<matplotlib.figure.Figure at 0x7fc56feb3790>"
      ]
     },
     "metadata": {},
     "output_type": "display_data"
    }
   ],
   "source": [
    "fig = pyplt.figure(figsize=(15, 15), dpi= 80, facecolor='w', edgecolor='k')\n",
    "for algo, color in zip([\n",
    "    'cMVA', \n",
    "    'clf_binary', \n",
    "    'clf_multiclass',\n",
    "    ], 'rgb'):    \n",
    "    for bkg, style in zip([4, 0], ['-', '--']):\n",
    "        mask = (test.flavour != bkg)\n",
    "        jets = test[mask]\n",
    "        fakes_positive_rate, true_positive_rate, _ = roc_curve(jets.isB, jets[algo])\n",
    "        pyplt.plot(true_positive_rate, fakes_positive_rate, '%s%s' % (color, style))\n",
    "\n",
    "import matplotlib.lines as mlines\n",
    "pyplt.legend(\n",
    "    loc='best',\n",
    "    handles=[\n",
    "        mlines.Line2D([],[], color='red', ls='-', label='cMVAv2'),\n",
    "        mlines.Line2D([],[], color='green', ls='-', label='clf_binary'),\n",
    "        mlines.Line2D([],[], color='blue', ls='-', label='clf_multiclass'),\n",
    "        mlines.Line2D([],[], color='k', ls='-', label='b vs. light'),\n",
    "        mlines.Line2D([],[], color='k', ls='--', label='b vs. charm'),        \n",
    "        ])\n",
    "        \n",
    "pyplt.xlabel('efficiency')\n",
    "pyplt.ylabel('fake rate')\n",
    "pyplt.grid(True)\n",
    "pyplt.yscale('log', nonposy='clip')\n",
    "pyplt.show()"
   ]
  },
  {
   "cell_type": "markdown",
   "metadata": {
    "collapsed": true
   },
   "source": [
    "Can you make the charm-vs-light and charm-vs-b plots for the discriminators considered?"
   ]
  },
  {
   "cell_type": "code",
   "execution_count": null,
   "metadata": {
    "collapsed": true
   },
   "outputs": [],
   "source": []
  }
 ],
 "metadata": {
  "kernelspec": {
   "display_name": "Python 2",
   "language": "python",
   "name": "python2"
  },
  "language_info": {
   "codemirror_mode": {
    "name": "ipython",
    "version": 2
   },
   "file_extension": ".py",
   "mimetype": "text/x-python",
   "name": "python",
   "nbconvert_exporter": "python",
   "pygments_lexer": "ipython2",
   "version": "2.7.11"
  }
 },
 "nbformat": 4,
 "nbformat_minor": 2
}
