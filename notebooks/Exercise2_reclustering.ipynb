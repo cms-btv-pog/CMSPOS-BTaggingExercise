{
 "cells": [
  {
   "cell_type": "markdown",
   "metadata": {},
   "source": [
    "# Exercise 2 -- reclustering\n",
    "\n",
    "Now you should know the drill. The first part is exactly the same"
   ]
  },
  {
   "cell_type": "code",
   "execution_count": null,
   "metadata": {
    "collapsed": false
   },
   "outputs": [],
   "source": [
    "import FWCore.ParameterSet.Config as cms\n",
    "from Configuration.StandardSequences.Eras import eras\n",
    "process = cms.Process(\"USER\",eras.Run2_2016)\n",
    "\n",
    "## Load services\n",
    "process.load(\"Configuration.Geometry.GeometryRecoDB_cff\")\n",
    "process.load(\"Configuration.StandardSequences.FrontierConditions_GlobalTag_cff\")\n",
    "process.load(\"Configuration.StandardSequences.MagneticField_cff\")\n",
    "process.load(\"FWCore.MessageService.MessageLogger_cfi\")\n",
    "process.MessageLogger.cerr.FwkReport.reportEvery = 10\n",
    "from Configuration.AlCa.GlobalTag import GlobalTag\n",
    "process.GlobalTag = GlobalTag(process.GlobalTag, 'auto:run2_mc')\n",
    "\n",
    "##Inputs\n",
    "#Source\n",
    "process.source = cms.Source(\n",
    "    \"PoolSource\",\n",
    "    fileNames = cms.untracked.vstring(\n",
    "        'root://xrootd-cms.infn.it//store/mc/RunIISummer16MiniAODv3/TT_TuneCUETP8M2T4_13TeV-powheg-pythia8/MINIAODSIM/PUMoriond17_94X_mcRun2_asymptotic_v3-v1/00000/0A8930BA-88BE-E811-8BDD-20CF3027A582.root'\n",
    "    )\n",
    ")\n",
    "\n",
    "#Events to run\n",
    "process.maxEvents = cms.untracked.PSet( \n",
    "    input = cms.untracked.int32(100) \n",
    ")\n",
    "\n",
    "#Long summary\n",
    "process.options = cms.untracked.PSet( \n",
    "    wantSummary = cms.untracked.bool(True) \n",
    ")\n"
   ]
  },
  {
   "cell_type": "markdown",
   "metadata": {},
   "source": [
    "## Re-making jets"
   ]
  },
  {
   "cell_type": "code",
   "execution_count": null,
   "metadata": {
    "collapsed": false
   },
   "outputs": [],
   "source": [
    "#################################################\n",
    "## Remake jets\n",
    "#################################################\n",
    "\n",
    "## Filter out neutrinos from packed GenParticles\n",
    "process.packedGenParticlesForJetsNoNu = cms.EDFilter(\n",
    "    \"CandPtrSelector\", \n",
    "    src = cms.InputTag(\"packedGenParticles\"), \n",
    "    cut = cms.string(\"abs(pdgId) != 12 && abs(pdgId) != 14 && abs(pdgId) != 16\")\n",
    ")\n",
    "\n",
    "## Define GenJets\n",
    "from RecoJets.JetProducers.ak4GenJets_cfi import ak4GenJets\n",
    "process.ak4GenJetsNoNu = ak4GenJets.clone(\n",
    "    src = 'packedGenParticlesForJetsNoNu'\n",
    ")\n",
    "\n",
    "## Select charged hadron subtracted packed PF candidates\n",
    "process.pfCHS = cms.EDFilter(\n",
    "    \"CandPtrSelector\", \n",
    "    src = cms.InputTag(\"packedPFCandidates\"), \n",
    "    cut = cms.string(\"fromPV\")\n",
    ")\n",
    "\n",
    "from RecoJets.JetProducers.ak4PFJets_cfi import ak4PFJets\n",
    "## Define PFJetsCHS\n",
    "process.ak4PFJetsCHS = ak4PFJets.clone(\n",
    "    src = 'pfCHS', \n",
    "    doAreaFastjet = True\n",
    ")"
   ]
  },
  {
   "cell_type": "markdown",
   "metadata": {},
   "source": [
    "## Making PAT jets\n",
    "\n",
    "The following part produces the `pat::Jet` collection out of the newly created `reco::Jet` collection. As for the previous exercise, we will use a PAT tool modifier: `switchJetCollection`. You can view all its options as usual."
   ]
  },
  {
   "cell_type": "code",
   "execution_count": null,
   "metadata": {
    "collapsed": false
   },
   "outputs": [],
   "source": [
    "from PhysicsTools.PatAlgos.tools.jetTools import switchJetCollection\n",
    "print switchJetCollection.__doc__\n",
    "for par_name, par in switchJetCollection._parameters.iteritems():\n",
    "    print '   - %s:  %s' % (par_name, par.description)"
   ]
  },
  {
   "cell_type": "markdown",
   "metadata": {},
   "source": [
    "We want to make a new pat jet collection from the jet collection we just created, and add the following discriminators: CSVv2, cMVAv2, and DeepCSV. Please fill the following code"
   ]
  },
  {
   "cell_type": "code",
   "execution_count": null,
   "metadata": {
    "collapsed": true
   },
   "outputs": [],
   "source": [
    "## b-tag discriminators\n",
    "bTagDiscriminators = [\n",
    "    #\n",
    "    # PUT THE DISCRIMINATORS HERE\n",
    "    #\n",
    "]\n",
    "\n",
    "## Switch the default PAT jet collection to the above-defined ak4PFJetsCHS\n",
    "#\n",
    "# REPLACE THE FIXME!\n",
    "# \n",
    "FIXME = 'FIXME' #this is just here to avoid python to raise an exception\n",
    "switchJetCollection(\n",
    "    process,\n",
    "    jetSource = FIXME,\n",
    "    pvSource = FIXME,\n",
    "    pfCandidates = FIXME,\n",
    "    svSource = FIXME,\n",
    "    muSource = FIXME,\n",
    "    elSource = FIXME,\n",
    "    btagDiscriminators = bTagDiscriminators,\n",
    "    jetCorrections = ('AK4PFchs', ['L1FastJet', 'L2Relative', 'L3Absolute'], 'None'),\n",
    "    genJetCollection = FIXME,\n",
    "    genParticles = FIXME\n",
    ")\n",
    "getattr(process,'selectedPatJets').cut = cms.string('pt > 10')   # to match the selection for slimmedJets in MiniAOD"
   ]
  },
  {
   "cell_type": "markdown",
   "metadata": {},
   "source": [
    "What is this needed for?"
   ]
  },
  {
   "cell_type": "code",
   "execution_count": null,
   "metadata": {
    "collapsed": true
   },
   "outputs": [],
   "source": [
    "from PhysicsTools.PatAlgos.tools.pfTools import adaptPVs\n",
    "## Adapt primary vertex collection\n",
    "adaptPVs(\n",
    "    process, \n",
    "    pvCollection=cms.InputTag('offlineSlimmedPrimaryVertices')\n",
    ")"
   ]
  },
  {
   "cell_type": "markdown",
   "metadata": {},
   "source": [
    "Now, set the output. Please note the use of the `Task`, which allows the configuration file to run smoothly in the unscheduled mode"
   ]
  },
  {
   "cell_type": "code",
   "execution_count": null,
   "metadata": {
    "collapsed": true
   },
   "outputs": [],
   "source": [
    "#output\n",
    "process.out = cms.OutputModule(\n",
    "    \"PoolOutputModule\",\n",
    "    fileName = cms.untracked.string('recluster_jets.root'),\n",
    "    ## save only events passing the full path\n",
    "    #SelectEvents = cms.untracked.PSet( SelectEvents = cms.vstring('p') ),\n",
    "    outputCommands = cms.untracked.vstring(\n",
    "        'drop *', ## Do not keep anything\n",
    "        'keep *_slimmedJets_*_*', \n",
    "        'keep *_selectedPatJets_*_*', \n",
    "    )\n",
    ")\n",
    "\n",
    "#\n",
    "# ADD YOUR CODE HERE!\n",
    "#\n",
    "process.outpath = cms.EndPath(process.out, patAlgosToolsTask)"
   ]
  },
  {
   "cell_type": "code",
   "execution_count": null,
   "metadata": {
    "collapsed": true
   },
   "outputs": [],
   "source": []
  }
 ],
 "metadata": {
  "kernelspec": {
   "display_name": "Python 2",
   "language": "python",
   "name": "python2"
  },
  "language_info": {
   "codemirror_mode": {
    "name": "ipython",
    "version": 2
   },
   "file_extension": ".py",
   "mimetype": "text/x-python",
   "name": "python",
   "nbconvert_exporter": "python",
   "pygments_lexer": "ipython2",
   "version": "2.7.11"
  }
 },
 "nbformat": 4,
 "nbformat_minor": 2
}
