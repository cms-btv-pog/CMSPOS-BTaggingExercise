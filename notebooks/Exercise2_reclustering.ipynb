{
 "cells": [
  {
   "cell_type": "markdown",
   "metadata": {},
   "source": [
    "# Exercise 2 -- reclustering\n",
    "\n",
    "Now you should know the drill. The first part is exactly the same"
   ]
  },
  {
   "cell_type": "code",
   "execution_count": 3,
   "metadata": {
    "collapsed": false
   },
   "outputs": [],
   "source": [
    "import FWCore.ParameterSet.Config as cms\n",
    "from Configuration.StandardSequences.Eras import eras\n",
    "process = cms.Process(\"USER\",eras.Run2_2016)\n",
    "\n",
    "## Load services\n",
    "process.load(\"Configuration.Geometry.GeometryRecoDB_cff\")\n",
    "process.load(\"Configuration.StandardSequences.FrontierConditions_GlobalTag_cff\")\n",
    "process.load(\"Configuration.StandardSequences.MagneticField_cff\")\n",
    "process.load(\"FWCore.MessageService.MessageLogger_cfi\")\n",
    "process.MessageLogger.cerr.FwkReport.reportEvery = 10\n",
    "from Configuration.AlCa.GlobalTag import GlobalTag\n",
    "process.GlobalTag = GlobalTag(process.GlobalTag, 'auto:run2_mc')\n",
    "\n",
    "##Inputs\n",
    "#Source\n",
    "process.source = cms.Source(\n",
    "    \"PoolSource\",\n",
    "    fileNames = cms.untracked.vstring(\n",
    "        'root://xrootd-cms.infn.it//store/mc/RunIISummer16MiniAODv3/TT_TuneCUETP8M2T4_13TeV-powheg-pythia8/MINIAODSIM/PUMoriond17_94X_mcRun2_asymptotic_v3-v1/00000/0A8930BA-88BE-E811-8BDD-20CF3027A582.root'\n",
    "    )\n",
    ")\n",
    "\n",
    "#Events to run\n",
    "process.maxEvents = cms.untracked.PSet( \n",
    "    input = cms.untracked.int32(100) \n",
    ")\n",
    "\n",
    "#Long summary\n",
    "process.options = cms.untracked.PSet( \n",
    "    wantSummary = cms.untracked.bool(True) \n",
    ")\n"
   ]
  },
  {
   "cell_type": "markdown",
   "metadata": {},
   "source": [
    "## Re-making jets"
   ]
  },
  {
   "cell_type": "code",
   "execution_count": 12,
   "metadata": {
    "collapsed": false
   },
   "outputs": [
    {
     "name": "stdout",
     "output_type": "stream",
     "text": [
      "Switching PV collection for PF2PAT: cms.InputTag(\"offlineSlimmedPrimaryVertices\")\n",
      "***********************************\n"
     ]
    }
   ],
   "source": [
    "#################################################\n",
    "## Remake jets\n",
    "#################################################\n",
    "\n",
    "## Filter out neutrinos from packed GenParticles\n",
    "process.packedGenParticlesForJetsNoNu = cms.EDFilter(\n",
    "    \"CandPtrSelector\", \n",
    "    src = cms.InputTag(\"packedGenParticles\"), \n",
    "    cut = cms.string(\"abs(pdgId) != 12 && abs(pdgId) != 14 && abs(pdgId) != 16\")\n",
    ")\n",
    "\n",
    "## Define GenJets\n",
    "from RecoJets.JetProducers.ak4GenJets_cfi import ak4GenJets\n",
    "process.ak4GenJetsNoNu = ak4GenJets.clone(\n",
    "    src = 'packedGenParticlesForJetsNoNu'\n",
    ")\n",
    "\n",
    "## Select charged hadron subtracted packed PF candidates\n",
    "process.pfCHS = cms.EDFilter(\n",
    "    \"CandPtrSelector\", \n",
    "    src = cms.InputTag(\"packedPFCandidates\"), \n",
    "    cut = cms.string(\"fromPV\")\n",
    ")\n",
    "\n",
    "from RecoJets.JetProducers.ak4PFJets_cfi import ak4PFJets\n",
    "## Define PFJetsCHS\n",
    "process.ak4PFJetsCHS = ak4PFJets.clone(\n",
    "    src = 'pfCHS', \n",
    "    doAreaFastjet = True\n",
    ")"
   ]
  },
  {
   "cell_type": "markdown",
   "metadata": {},
   "source": [
    "## Making PAT jets\n",
    "\n",
    "The following part produces the `pat::Jet` collection out of the newly created `reco::Jet` collection. As for the previous exercise, we will use a PAT tool modifier: `switchJetCollection`. You can view all its options as usual."
   ]
  },
  {
   "cell_type": "code",
   "execution_count": 15,
   "metadata": {
    "collapsed": false
   },
   "outputs": [
    {
     "name": "stdout",
     "output_type": "stream",
     "text": [
      "\n",
      "    Tool to switch parameters of the PAT jet collection to your PAT Tuple.\n",
      "    \n",
      "   - postfix:  postfix from usePF2PAT\n",
      "   - btagPrefix:  Prefix to be added to b-tag discriminator and TagInfo names\n",
      "   - jetSource:  Label of the input collection from which the new patJet collection should be created\n",
      "   - pfCandidates:  Label of the input collection for candidatecandidatese used in b-tagging\n",
      "   - explicitJTA:  Use explicit jet-track association\n",
      "   - pvSource:  Label of the input collection for primary vertices used in b-tagging\n",
      "   - svSource:  Label of the input collection for IVF vertices used in b-tagging\n",
      "   - elSource:  Label of the input collection for electrons used in b-tagging\n",
      "   - muSource:  Label of the input collection for muons used in b-tagging\n",
      "   - runIVF:  Re-run IVF secondary vertex reconstruction\n",
      "   - tightBTagNTkHits:  Enable legacy tight b-tag track selection\n",
      "   - loadStdRecoBTag:  Load the standard reconstruction b-tagging modules\n",
      "   - svClustering:  Secondary vertices ghost-associated to jets using jet clustering (mostly intended for subjets)\n",
      "   - fatJets:  Fat jet collection used for secondary vertex clustering\n",
      "   - groomedFatJets:  Groomed fat jet collection used for secondary vertex clustering\n",
      "   - algo:  Jet algorithm of the input collection from which the new patJet collection should be created\n",
      "   - rParam:  Jet size (distance parameter R used in jet clustering)\n",
      "   - getJetMCFlavour:  Get jet MC truth flavour\n",
      "   - genJetCollection:  GenJet collection to match to\n",
      "   - genParticles:  GenParticle collection to be used\n",
      "   - jetCorrections:  Add all relevant information about jet energy corrections that you want to be added to your new patJet         collection. The format is to be passed on in a python tuple: e.g. ('AK4Calo',['L2Relative', 'L3Absolute'], patMet). The first argument corresponds to the payload         in the CMS Conditions database for the given jet collection; the second argument corresponds to the jet energy correction level that you want to be embedded into your         new patJet collection. This should be given as a list of strings. Available values are L1Offset, L1FastJet, L1JPTOffset, L2Relative, L3Absolute, L5Falvour, L7Parton; the         third argument indicates whether MET(Type1) corrections should be applied corresponding to the new patJetCollection. If so a new patMet collection will be added to your PAT         Tuple in addition to the raw patMet with the MET(Type1) corrections applied. The argument corresponds to the patMet collection to which the MET(Type1) corrections should be         applied. If you are not interested in MET(Type1) corrections to this new patJet collection pass None as third argument of the python tuple.\n",
      "   - btagDiscriminators:  If you are interested in btagging in general the btag discriminators is all relevant         information that you need for a high level analysis. Add here all btag discriminators, that you are interested in as a list of strings. If this list is empty no btag         discriminator information will be added to your new patJet collection.\n",
      "   - btagInfos:  The btagInfos objects conatin all relevant information from which all discriminators of a certain         type have been calculated. Note that this information on the one hand can be very space consuming and on the other hand is not necessary to access the btag discriminator         information that has been derived from it. Only in very special cases the btagInfos might really be needed in your analysis. Add here all btagInfos, that you are interested         in as a list of strings. If this list is empty no btagInfos will be added to your new patJet collection.\n",
      "   - jetTrackAssociation:  Add JetTrackAssociation and JetCharge from reconstructed tracks to your new patJet collection. This         switch is only of relevance if you don't add any btag information to your new patJet collection (btagDiscriminators or btagInfos) and still want this information added to         your new patJetCollection. If btag information is added to the new patJet collection this information will be added automatically.\n",
      "   - outputModules:  Output module labels. Add a list of all output modules to which you would like the new jet collection to         be added, in case you use more than one output module.\n"
     ]
    }
   ],
   "source": [
    "from PhysicsTools.PatAlgos.tools.jetTools import switchJetCollection\n",
    "print switchJetCollection.__doc__\n",
    "for par_name, par in switchJetCollection._parameters.iteritems():\n",
    "    print '   - %s:  %s' % (par_name, par.description)"
   ]
  },
  {
   "cell_type": "code",
   "execution_count": null,
   "metadata": {
    "collapsed": true
   },
   "outputs": [],
   "source": [
    "## b-tag discriminators\n",
    "bTagDiscriminators = [\n",
    "    'pfCombinedInclusiveSecondaryVertexV2BJetTags',\n",
    "    'pfCombinedMVAV2BJetTags',\n",
    "    'pfDeepCSVJetTags:probb',\n",
    "    'pfDeepCSVJetTags:probc',\n",
    "    'pfDeepCSVJetTags:probudsg',\n",
    "    'pfDeepCSVJetTags:probbb',\n",
    "]\n",
    "\n",
    "## Switch the default PAT jet collection to the above-defined ak4PFJetsCHS\n",
    "switchJetCollection(\n",
    "    process,\n",
    "    jetSource = cms.InputTag('ak4PFJetsCHS'),\n",
    "    pvSource = cms.InputTag('offlineSlimmedPrimaryVertices'),\n",
    "    pfCandidates = cms.InputTag('packedPFCandidates'),\n",
    "    svSource = cms.InputTag('slimmedSecondaryVertices'),\n",
    "    muSource = cms.InputTag('slimmedMuons'),\n",
    "    elSource = cms.InputTag('slimmedElectrons'),\n",
    "    btagDiscriminators = bTagDiscriminators,\n",
    "    jetCorrections = ('AK4PFchs', ['L1FastJet', 'L2Relative', 'L3Absolute'], 'None'),\n",
    "    genJetCollection = cms.InputTag('ak4GenJetsNoNu'),\n",
    "    genParticles = cms.InputTag('prunedGenParticles')\n",
    ")\n",
    "getattr(process,'selectedPatJets').cut = cms.string('pt > 10')   # to match the selection for slimmedJets in MiniAOD"
   ]
  },
  {
   "cell_type": "markdown",
   "metadata": {},
   "source": [
    "What is this needed for?"
   ]
  },
  {
   "cell_type": "code",
   "execution_count": null,
   "metadata": {
    "collapsed": true
   },
   "outputs": [],
   "source": [
    "from PhysicsTools.PatAlgos.tools.pfTools import adaptPVs\n",
    "## Adapt primary vertex collection\n",
    "adaptPVs(\n",
    "    process, \n",
    "    pvCollection=cms.InputTag('offlineSlimmedPrimaryVertices')\n",
    ")"
   ]
  },
  {
   "cell_type": "markdown",
   "metadata": {},
   "source": [
    "Now, set the output. Please note the use of the `Task`, which allows the configuration file to run smoothly in the unscheduled mode"
   ]
  },
  {
   "cell_type": "code",
   "execution_count": 5,
   "metadata": {
    "collapsed": true
   },
   "outputs": [],
   "source": [
    "#output\n",
    "process.out = cms.OutputModule(\n",
    "    \"PoolOutputModule\",\n",
    "    fileName = cms.untracked.string('recluster_jets.root'),\n",
    "    ## save only events passing the full path\n",
    "    #SelectEvents = cms.untracked.PSet( SelectEvents = cms.vstring('p') ),\n",
    "    outputCommands = cms.untracked.vstring(\n",
    "        'drop *', ## Do not keep anything\n",
    "        'keep *_slimmedJets_*_*', \n",
    "        'keep *_selectedPatJets_*_*', \n",
    "    )\n",
    ")\n",
    "\n",
    "process.jetClusteringTask = cms.Task(\n",
    "    process.packedGenParticlesForJetsNoNu,\n",
    "    process.ak4GenJetsNoNu,\n",
    "    process.pfCHS,\n",
    "    process.ak4PFJetsCHS\n",
    ")\n",
    "\n",
    "from PhysicsTools.PatAlgos.tools.helpers import getPatAlgosToolsTask\n",
    "patAlgosToolsTask = getPatAlgosToolsTask(process)\n",
    "patAlgosToolsTask.add(process.jetClusteringTask)\n",
    "process.outpath = cms.EndPath(process.out, patAlgosToolsTask)"
   ]
  },
  {
   "cell_type": "code",
   "execution_count": null,
   "metadata": {
    "collapsed": true
   },
   "outputs": [],
   "source": []
  }
 ],
 "metadata": {
  "kernelspec": {
   "display_name": "Python 2",
   "language": "python",
   "name": "python2"
  },
  "language_info": {
   "codemirror_mode": {
    "name": "ipython",
    "version": 2
   },
   "file_extension": ".py",
   "mimetype": "text/x-python",
   "name": "python",
   "nbconvert_exporter": "python",
   "pygments_lexer": "ipython2",
   "version": "2.7.11"
  }
 },
 "nbformat": 4,
 "nbformat_minor": 2
}
