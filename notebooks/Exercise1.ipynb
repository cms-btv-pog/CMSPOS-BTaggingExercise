{
 "cells": [
  {
   "cell_type": "markdown",
   "metadata": {},
   "source": [
    "# Exercise 1\n",
    "\n",
    "\n",
    "## Part I - accessing b-tagging discriminators\n",
    "\n",
    "First let's import some useful thigs. For this part we will use __FWLite__, the python bindings to the edm CMSSW classes"
   ]
  },
  {
   "cell_type": "code",
   "execution_count": 1,
   "metadata": {
    "collapsed": false
   },
   "outputs": [
    {
     "data": {
      "application/javascript": [
       "\n",
       "require(['notebook'],\n",
       "  function() {\n",
       "    IPython.CodeCell.config_defaults.highlight_modes['magic_text/x-c++src'] = {'reg':[/^%%cpp/]};\n",
       "    console.log(\"JupyROOT - %%cpp magic configured\");\n",
       "  }\n",
       ");\n"
      ]
     },
     "metadata": {},
     "output_type": "display_data"
    },
    {
     "name": "stdout",
     "output_type": "stream",
     "text": [
      "Welcome to JupyROOT 6.08/07\n"
     ]
    }
   ],
   "source": [
    "import ROOT\n",
    "import rootpy #hands down, a better version of PyROOT\n",
    "import rootpy.plotting as plt\n",
    "import pprint\n",
    "from DataFormats.FWLite import Events, Handle"
   ]
  },
  {
   "cell_type": "markdown",
   "metadata": {},
   "source": [
    "Then we load the input file"
   ]
  },
  {
   "cell_type": "code",
   "execution_count": 2,
   "metadata": {
    "collapsed": true
   },
   "outputs": [],
   "source": [
    "events = Events(\n",
    "    'root://xrootd-cms.infn.it//store/relval/CMSSW_9_2_7/RelValTTbarLepton_13/'\n",
    "    'MINIAODSIM/PU25ns_92X_upgrade2017_realistic_v7-v1/00000/'\n",
    "    '4E285340-6471-E711-AF0C-0025905B85F6.root'\n",
    ")"
   ]
  },
  {
   "cell_type": "markdown",
   "metadata": {},
   "source": [
    "This is just a python trick to get the first event"
   ]
  },
  {
   "cell_type": "code",
   "execution_count": 3,
   "metadata": {
    "collapsed": true
   },
   "outputs": [],
   "source": [
    "event = events.__iter__().next()"
   ]
  },
  {
   "cell_type": "markdown",
   "metadata": {},
   "source": [
    "Now, let's create a handle, like you would do in C++. If you use FWLite for your analysis, remember to create the handle __before your event loop!__ Creating a handle is quite slow in python, so better do it only once."
   ]
  },
  {
   "cell_type": "code",
   "execution_count": 4,
   "metadata": {
    "collapsed": true
   },
   "outputs": [],
   "source": [
    "handle = Handle('vector<pat::Jet>')"
   ]
  },
  {
   "cell_type": "markdown",
   "metadata": {},
   "source": [
    "Now get the jet collection"
   ]
  },
  {
   "cell_type": "code",
   "execution_count": 5,
   "metadata": {
    "collapsed": false
   },
   "outputs": [
    {
     "name": "stdout",
     "output_type": "stream",
     "text": [
      "<ROOT.vector<pat::Jet> object at 0x1888d8a0>\n"
     ]
    }
   ],
   "source": [
    "event.getByLabel('slimmedJets', handle)\n",
    "jets = handle.product()\n",
    "print jets"
   ]
  },
  {
   "cell_type": "markdown",
   "metadata": {},
   "source": [
    "Now that we have our vector of jets, we can check the first element and ask its methods.\n",
    "\n",
    "B-tagging outputs are called _discriminator_, so let's use python's reflection abilities to see what's inside the `pat::Jet` that we can use. Otherwise you can always use [doxygen](http://cmsdoxygen.web.cern.ch/cmsdoxygen/CMSSW_9_2_8/doc/html/d6/d00/classpat_1_1Jet.html)."
   ]
  },
  {
   "cell_type": "code",
   "execution_count": 6,
   "metadata": {
    "collapsed": false
   },
   "outputs": [
    {
     "data": {
      "text/plain": [
       "['addBDiscriminatorPair', 'bDiscriminator', 'getPairDiscri']"
      ]
     },
     "execution_count": 6,
     "metadata": {},
     "output_type": "execute_result"
    }
   ],
   "source": [
    "[i for i in dir(jets[0]) if 'disc' in i.lower()]"
   ]
  },
  {
   "cell_type": "markdown",
   "metadata": {},
   "source": [
    "As you can see there are three methods that look interesting. One for adding the discriminators and two to get them, we will use the second one."
   ]
  },
  {
   "cell_type": "code",
   "execution_count": 7,
   "metadata": {
    "collapsed": false
   },
   "outputs": [
    {
     "data": {
      "text/plain": [
       "<ROOT.vector<pair<string,float> > object at 0x18935b80>"
      ]
     },
     "execution_count": 7,
     "metadata": {},
     "output_type": "execute_result"
    }
   ],
   "source": [
    "jets[0].getPairDiscri()"
   ]
  },
  {
   "cell_type": "markdown",
   "metadata": {},
   "source": [
    "As you can see this returns a `std::vector` containing pairs of `std::string` and `float`, corresponding to the discriminator name and its respective value. Let's check all the discriminators available:"
   ]
  },
  {
   "cell_type": "code",
   "execution_count": 8,
   "metadata": {
    "collapsed": false
   },
   "outputs": [
    {
     "data": {
      "text/plain": [
       "['pfJetBProbabilityBJetTags',\n",
       " 'pfJetProbabilityBJetTags',\n",
       " 'pfTrackCountingHighEffBJetTags',\n",
       " 'pfSimpleSecondaryVertexHighEffBJetTags',\n",
       " 'pfSimpleInclusiveSecondaryVertexHighEffBJetTags',\n",
       " 'pfCombinedSecondaryVertexV2BJetTags',\n",
       " 'pfCombinedInclusiveSecondaryVertexV2BJetTags',\n",
       " 'softPFMuonBJetTags',\n",
       " 'softPFElectronBJetTags',\n",
       " 'pfCombinedMVAV2BJetTags',\n",
       " 'pfCombinedCvsLJetTags',\n",
       " 'pfCombinedCvsBJetTags',\n",
       " 'pfDeepCSVJetTags:probb',\n",
       " 'pfDeepCSVJetTags:probc',\n",
       " 'pfDeepCSVJetTags:probudsg',\n",
       " 'pfDeepCSVJetTags:probbb']"
      ]
     },
     "execution_count": 8,
     "metadata": {},
     "output_type": "execute_result"
    }
   ],
   "source": [
    "[i.first for i in jets[0].getPairDiscri()]"
   ]
  },
  {
   "cell_type": "markdown",
   "metadata": {},
   "source": [
    "## Part II - A few comments on event loops\n",
    "\n",
    "Let's run a simple event loop counting the events:"
   ]
  },
  {
   "cell_type": "code",
   "execution_count": 9,
   "metadata": {
    "collapsed": false
   },
   "outputs": [
    {
     "name": "stdout",
     "output_type": "stream",
     "text": [
      "6500\n"
     ]
    }
   ],
   "source": [
    "counter = 0\n",
    "for evt in events:\n",
    "    counter += 1\n",
    "print counter"
   ]
  },
  {
   "cell_type": "markdown",
   "metadata": {},
   "source": [
    "OK, pretty standard, right? Now, let's try to do it __again__"
   ]
  },
  {
   "cell_type": "code",
   "execution_count": 10,
   "metadata": {
    "collapsed": false
   },
   "outputs": [
    {
     "name": "stdout",
     "output_type": "stream",
     "text": [
      "0\n"
     ]
    }
   ],
   "source": [
    "counter = 0\n",
    "for evt in events:\n",
    "    counter += 1\n",
    "print counter"
   ]
  },
  {
   "cell_type": "markdown",
   "metadata": {},
   "source": [
    "#### What happened?\n",
    "To save memory the `FWLite.Events` class behaves like a generator, hence once you loop over one entry, that entry is forgotten and you cannot re-run over it, unless you re-load the file completely. Keep that in mind when playing with it!\n",
    "\n",
    "Let's reload the file, you can always re-execute this cell how many times you need to reset this feature and run on the full set of events"
   ]
  },
  {
   "cell_type": "code",
   "execution_count": 11,
   "metadata": {
    "collapsed": true
   },
   "outputs": [],
   "source": [
    "events = Events(\n",
    "    'root://xrootd-cms.infn.it//store/relval/CMSSW_9_2_7/RelValTTbarLepton_13/'\n",
    "    'MINIAODSIM/PU25ns_92X_upgrade2017_realistic_v7-v1/00000/'\n",
    "    '4E285340-6471-E711-AF0C-0025905B85F6.root'\n",
    ")"
   ]
  },
  {
   "cell_type": "markdown",
   "metadata": {},
   "source": [
    "## Part III - plotting the b-tagging discriminator\n",
    "Now, let's plot few discriminator outputs for jets with $p_T > 20$ GeV and $|\\eta| < 2.4$"
   ]
  },
  {
   "cell_type": "code",
   "execution_count": 24,
   "metadata": {
    "collapsed": false
   },
   "outputs": [],
   "source": [
    "histograms = {\n",
    "    'CSV' : plt.Hist(100,0,1.1),\n",
    "    'deepCSV' : plt.Hist(100,0,1.1),\n",
    "}"
   ]
  },
  {
   "cell_type": "code",
   "execution_count": 28,
   "metadata": {
    "collapsed": true
   },
   "outputs": [],
   "source": [
    "for event in events:\n",
    "    event.getByLabel('slimmedJets', handle)\n",
    "    jets = handle.product()\n",
    "    for jet in jets:\n",
    "        #some basic selections\n",
    "        if jet.pt() < 20 or jet.eta() > 2.4: continue\n",
    "        histograms['CSV'].fill(jet.bDiscriminator('pfCombinedInclusiveSecondaryVertexV2BJetTags'))\n",
    "        histograms['deepCSV'].fill(\n",
    "            jet.bDiscriminator('pfDeepCSVJetTags:probb') +\n",
    "            jet.bDiscriminator('pfDeepCSVJetTags:probbb') #DeepCSV requires the sum of both!\n",
    "        )"
   ]
  },
  {
   "cell_type": "markdown",
   "metadata": {},
   "source": [
    "Now, let's plot it! (some cosmetics first, though)"
   ]
  },
  {
   "cell_type": "code",
   "execution_count": 29,
   "metadata": {
    "collapsed": false
   },
   "outputs": [
    {
     "data": {
      "image/png": "[encoded data removed]",
      "text/plain": [
       "<IPython.core.display.Image object>"
      ]
     },
     "metadata": {},
     "output_type": "display_data"
    }
   ],
   "source": [
    "histograms['CSV'].markercolor = 'blue'\n",
    "histograms['deepCSV'].markercolor = 'red'\n",
    "histograms['deepCSV'].xaxis.title = 'DeepCSV'\n",
    "histograms['deepCSV'].yaxis.title = 'Events'\n",
    "canvas = plt.Canvas(600, 600)\n",
    "histograms['CSV'].Draw()\n",
    "histograms['deepCSV'].Draw('same')\n",
    "canvas.Draw() #You need this to display inline"
   ]
  }
 ],
 "metadata": {
  "kernelspec": {
   "display_name": "Python 2",
   "language": "python",
   "name": "python2"
  },
  "language_info": {
   "codemirror_mode": {
    "name": "ipython",
    "version": 2
   },
   "file_extension": ".py",
   "mimetype": "text/x-python",
   "name": "python",
   "nbconvert_exporter": "python",
   "pygments_lexer": "ipython2",
   "version": "2.7.11"
  }
 },
 "nbformat": 4,
 "nbformat_minor": 2
}
