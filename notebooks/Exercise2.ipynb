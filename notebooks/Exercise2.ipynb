{
 "cells": [
  {
   "cell_type": "markdown",
   "metadata": {},
   "source": [
    "# Exercise 2\n",
    "\n",
    "__What is this?__ This is a CMSSW configuration file\n",
    "\n",
    "__Does it work on Jupyter?__\n",
    "Well... yes and no. Every CMSSW configuration file is a fully consistent python script, which means you can execute part of it in jupyter and see the effects, to run it on data, though you still need to export it in plain python and run it with `cmsRun`\n",
    "\n",
    "__How do I export the notebook?__\n",
    "Simply run in a shell:\n",
    "\n",
    "`jupyter nbconvert --to script Exercise2.ipynb`\n",
    "\n",
    "\n",
    "## Part I - a crash course on CMSSW configs\n",
    "\n",
    "Every CMSSW config must import the CMS standard configuration module and define a process. The process is the class that contains all the modules that _can_ be run, the __Path__s and __Sequence__s that _must_ be run.\n",
    "The process must have a name, and such name must be unique in the data chain, i.e. if the data have been processed by a process named `FOO`, you cannot run them again through a process with the same name\n",
    "It's necessary to specify the era considered, as different taggers may have different trainings for different eras, see https://twiki.cern.ch/twiki/bin/view/CMSPublic/SWGuideCmsDriverEras"
   ]
  },
  {
   "cell_type": "code",
   "execution_count": 1,
   "metadata": {
    "collapsed": true
   },
   "outputs": [],
   "source": [
    "import FWCore.ParameterSet.Config as cms\n",
    "from Configuration.StandardSequences.Eras import eras\n",
    "process = cms.Process(\"newPAT\",eras.Run2_2016)"
   ]
  },
  {
   "cell_type": "markdown",
   "metadata": {
    "collapsed": true
   },
   "source": [
    "Calling `process.load(fragment_name)` will act very similarly to `import` in normal python, but all the CMSSW modules defined in the python fragment will be loaded directly into the process.\n",
    "For our purposes we need a bunch of services that define detector geometry and magnetic field map."
   ]
  },
  {
   "cell_type": "code",
   "execution_count": 5,
   "metadata": {
    "collapsed": false
   },
   "outputs": [],
   "source": [
    "process.load(\"Configuration.Geometry.GeometryRecoDB_cff\")\n",
    "process.load(\"Configuration.StandardSequences.FrontierConditions_GlobalTag_cff\")\n",
    "process.load(\"Configuration.StandardSequences.MagneticField_cff\")\n",
    "process.load(\"FWCore.MessageService.MessageLogger_cfi\")\n",
    "process.MessageLogger.cerr.FwkReport.reportEvery = 10"
   ]
  },
  {
   "cell_type": "markdown",
   "metadata": {
    "collapsed": true
   },
   "source": [
    "The `GlobalTag` defines a specific set of conditions (alignment, jet energy corrections etc.) valid for data or MC and for a specific set of range. You can look for the valid global tag for the data you are analyzing [here](https://twiki.cern.ch/twiki/bin/view/CMSPublic/SWGuideFrontierConditions?redirectedfrom=CMS.SWGuideFrontierConditions)"
   ]
  },
  {
   "cell_type": "code",
   "execution_count": 6,
   "metadata": {
    "collapsed": true
   },
   "outputs": [],
   "source": [
    "from Configuration.AlCa.GlobalTag import GlobalTag\n",
    "process.GlobalTag = GlobalTag(process.GlobalTag, 'auto:run2_mc')"
   ]
  },
  {
   "cell_type": "markdown",
   "metadata": {
    "collapsed": true
   },
   "source": [
    "Of course, you can define the input files, the number of events to run on, and if you want a full summary of what has been run"
   ]
  },
  {
   "cell_type": "code",
   "execution_count": 7,
   "metadata": {
    "collapsed": true
   },
   "outputs": [],
   "source": [
    "#Source\n",
    "process.source = cms.Source(\n",
    "    \"PoolSource\",\n",
    "    fileNames = cms.untracked.vstring(\n",
    "        'root://xrootd-cms.infn.it//store/mc/RunIISummer16MiniAODv3/TT_TuneCUETP8M2T4_13TeV-powheg-pythia8/MINIAODSIM/PUMoriond17_94X_mcRun2_asymptotic_v3-v1/00000/0A8930BA-88BE-E811-8BDD-20CF3027A582.root'\n",
    "    )\n",
    ")\n",
    "\n",
    "#Events to run\n",
    "process.maxEvents = cms.untracked.PSet( \n",
    "    input = cms.untracked.int32(100) \n",
    ")\n",
    "\n",
    "#Long summary\n",
    "process.options = cms.untracked.PSet( \n",
    "    wantSummary = cms.untracked.bool(True) \n",
    ")"
   ]
  },
  {
   "cell_type": "markdown",
   "metadata": {
    "collapsed": true
   },
   "source": [
    "This is how you define the output of the edm file"
   ]
  },
  {
   "cell_type": "code",
   "execution_count": 11,
   "metadata": {
    "collapsed": true
   },
   "outputs": [],
   "source": [
    "process.out = cms.OutputModule(\n",
    "    \"PoolOutputModule\",\n",
    "    fileName = cms.untracked.string('updated_btagging.root'),\n",
    "    ## save only events passing the full path\n",
    "    #SelectEvents = cms.untracked.PSet( SelectEvents = cms.vstring('p') ),\n",
    "    outputCommands = cms.untracked.vstring(\n",
    "        'drop *', ## Do not keep anything\n",
    "        'keep *_slimmedJets_*_*' #keep only the slimmed jets\n",
    "    )\n",
    ")"
   ]
  },
  {
   "cell_type": "markdown",
   "metadata": {
    "collapsed": true
   },
   "source": [
    "__The format of the `keep` statement:__ Stars are allowed and mean anything like in POSIX regular expressions (the one you use in your shell), there are four fields separated by an underscore, in the same order as presented by the `edmDumpEventContent` command. They represent:\n",
    "   1. The type of the object\n",
    "   2. The name (a.k.a _label_) of the module producing it\n",
    "   3. The _instance_. If a module produces multiple objects, it will make them with the same name, but different instances (and, potentially, types)\n",
    "   4. The process name. This is used in case you want to reproduce some objects in your cfg (e.g. the whole HLT simulation) and save only the new one"
   ]
  },
  {
   "cell_type": "code",
   "execution_count": 8,
   "metadata": {
    "collapsed": true
   },
   "outputs": [],
   "source": [
    "from PhysicsTools.PatAlgos.tools.helpers import getPatAlgosToolsTask\n",
    "patAlgosToolsTask = getPatAlgosToolsTask(process)"
   ]
  },
  {
   "cell_type": "markdown",
   "metadata": {
    "collapsed": true
   },
   "source": [
    "More information on what a `cms.Task` is are available [here](https://twiki.cern.ch/twiki/bin/view/CMSPublic/SWGuideAboutPythonConfigFile#Task_Objects).\n",
    "\n",
    "The EndPath contains the information of what needs to be run at the end of the execution of each event."
   ]
  },
  {
   "cell_type": "code",
   "execution_count": 12,
   "metadata": {
    "collapsed": false
   },
   "outputs": [],
   "source": [
    "process.outpath = cms.EndPath(process.out, patAlgosToolsTask)"
   ]
  },
  {
   "cell_type": "markdown",
   "metadata": {
    "collapsed": true
   },
   "source": [
    "## Part II - remaking b-tag discriminators from MiniAOD\n",
    "\n",
    "Everything is handled by a single helper function"
   ]
  },
  {
   "cell_type": "code",
   "execution_count": 13,
   "metadata": {
    "collapsed": true
   },
   "outputs": [],
   "source": [
    "from PhysicsTools.PatAlgos.tools.jetTools import updateJetCollection"
   ]
  },
  {
   "cell_type": "markdown",
   "metadata": {
    "collapsed": true
   },
   "source": [
    "Getting the full set of optional arguments, unfortunately, is a bit cumbersome. This approach, though, _should_ be similar for all PAT-based modifier functions"
   ]
  },
  {
   "cell_type": "code",
   "execution_count": 25,
   "metadata": {
    "collapsed": false
   },
   "outputs": [
    {
     "name": "stdout",
     "output_type": "stream",
     "text": [
      "\n",
      "    Tool to update a jet collection in your PAT Tuple (primarily intended for MiniAOD for which the default input argument values have been set).\n",
      "    \n",
      "   - labelName:  Label name of the new patJet collection.\n",
      "   - postfix:  Postfix from usePF2PAT.\n",
      "   - btagPrefix:  Prefix to be added to b-tag discriminator and TagInfo names\n",
      "   - jetSource:  Label of the input collection from which the new patJet collection should be created\n",
      "   - pfCandidates:  Label of the input collection for candidatecandidatese used in b-tagging\n",
      "   - explicitJTA:  Use explicit jet-track association\n",
      "   - pvSource:  Label of the input collection for primary vertices used in b-tagging\n",
      "   - svSource:  Label of the input collection for IVF vertices used in b-tagging\n",
      "   - elSource:  Label of the input collection for electrons used in b-tagging\n",
      "   - muSource:  Label of the input collection for muons used in b-tagging\n",
      "   - runIVF:  Re-run IVF secondary vertex reconstruction\n",
      "   - tightBTagNTkHits:  Enable legacy tight b-tag track selection\n",
      "   - loadStdRecoBTag:  Load the standard reconstruction b-tagging modules\n",
      "   - svClustering:  Secondary vertices ghost-associated to jets using jet clustering (mostly intended for subjets)\n",
      "   - fatJets:  Fat jet collection used for secondary vertex clustering\n",
      "   - groomedFatJets:  Groomed fat jet collection used for secondary vertex clustering\n",
      "   - algo:  Jet algorithm of the input collection from which the new patJet collection should be created\n",
      "   - rParam:  Jet size (distance parameter R used in jet clustering)\n",
      "   - jetCorrections:  Add all relevant information about jet energy corrections that you want to be added to your new patJet         collection. The format has to be given in a python tuple of type: ('AK4Calo',['L2Relative', 'L3Absolute'], patMet). Here the first argument corresponds to the payload         in the CMS Conditions database for the given jet collection; the second argument corresponds to the jet energy correction levels that you want to be embedded into your         new patJet collection. This should be given as a list of strings. Available values are L1Offset, L1FastJet, L1JPTOffset, L2Relative, L3Absolute, L5Falvour, L7Parton; the         third argument indicates whether MET(Type1/2) corrections should be applied corresponding to the new patJetCollection. If so a new patMet collection will be added to your PAT         Tuple in addition to the raw patMet. This new patMet collection will have the MET(Type1/2) corrections applied. The argument can have the following types: 'type-1' for         type-1 corrected MET; 'type-2' for type-1 plus type-2 corrected MET; '' or 'none' if no further MET corrections should be applied to your MET. The arguments 'type-1'         and 'type-2' are not case sensitive.\n",
      "   - btagDiscriminators:  If you are interested in btagging, in most cases just the labels of the btag discriminators that         you are interested in is all relevant information that you need for a high level analysis. Add here all btag discriminators, that you are interested in as a list of strings.         If this list is empty no btag discriminator information will be added to your new patJet collection.\n",
      "   - btagInfos:  The btagInfos objects contain all relevant information from which all discriminators of a certain         type have been calculated. You might be interested in keeping this information for low level tests or to re-calculate some discriminators from hand. Note that this information         on the one hand can be very space consuming and that it is not necessary to access the pre-calculated btag discriminator information that has been derived from it. Only in very         special cases the btagInfos might really be needed in your analysis. Add here all btagInfos, that you are interested in as a list of strings. If this list is empty no btagInfos         will be added to your new patJet collection.\n",
      "   - outputModules:  Add a list of all output modules to which you would like the new jet collection to be added. Usually this is         just one single output module with name 'out', which corresponds also the default configuration of the tool. There is cases though where you might want to add this collection         to more than one output module.\n"
     ]
    }
   ],
   "source": [
    "print updateJetCollection.__doc__\n",
    "for par_name, par in updateJetCollection._parameters.iteritems():\n",
    "    print '   - %s:  %s' % (par_name, par.description)"
   ]
  },
  {
   "cell_type": "code",
   "execution_count": 26,
   "metadata": {
    "collapsed": false
   },
   "outputs": [
    {
     "name": "stderr",
     "output_type": "stream",
     "text": [
      "**************************************************************\n",
      "b tagging needs to be run on uncorrected jets. Hence, the JECs\n",
      "will first be undone for 'updatedPatJets' and then applied to\n",
      "'updatedPatJetsTransientCorrected'.\n",
      "**************************************************************\n"
     ]
    }
   ],
   "source": [
    "updateJetCollection(\n",
    "    process,\n",
    "    jetSource = cms.InputTag('slimmedJets'),\n",
    "    jetCorrections = ('AK4PFchs', cms.vstring(['L1FastJet', 'L2Relative', 'L3Absolute']), 'None'),\n",
    "    btagDiscriminators = ['pfCombinedSecondaryVertexV2BJetTags'], ## to add discriminators\n",
    "    btagPrefix = 'TEST'\n",
    ")"
   ]
  },
  {
   "cell_type": "markdown",
   "metadata": {
    "collapsed": true
   },
   "source": [
    "Here you should write the necessary code to store the new discriminators. What will be their name?"
   ]
  },
  {
   "cell_type": "code",
   "execution_count": 27,
   "metadata": {
    "collapsed": true
   },
   "outputs": [],
   "source": [
    "process.out.outputCommands.append('keep *_selectedUpdatedPatJets_*_*')"
   ]
  },
  {
   "cell_type": "markdown",
   "metadata": {
    "collapsed": true
   },
   "source": [
    "Now you can convert the notebook to run on the data!"
   ]
  }
 ],
 "metadata": {
  "kernelspec": {
   "display_name": "Python 2",
   "language": "python",
   "name": "python2"
  },
  "language_info": {
   "codemirror_mode": {
    "name": "ipython",
    "version": 2
   },
   "file_extension": ".py",
   "mimetype": "text/x-python",
   "name": "python",
   "nbconvert_exporter": "python",
   "pygments_lexer": "ipython2",
   "version": "2.7.11"
  }
 },
 "nbformat": 4,
 "nbformat_minor": 2
}
